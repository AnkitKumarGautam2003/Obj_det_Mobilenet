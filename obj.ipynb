{
 "cells": [
  {
   "cell_type": "markdown",
   "metadata": {},
   "source": [
    "# download cv2"
   ]
  },
  {
   "cell_type": "code",
   "execution_count": 2,
   "metadata": {},
   "outputs": [
    {
     "name": "stdout",
     "output_type": "stream",
     "text": [
      "Requirement already satisfied: opencv-python in e:\\ankit\\deep learning\\object detection\\env\\lib\\site-packages (4.10.0.84)\n",
      "Requirement already satisfied: numpy>=1.21.2 in e:\\ankit\\deep learning\\object detection\\env\\lib\\site-packages (from opencv-python) (2.1.0)\n",
      "Note: you may need to restart the kernel to use updated packages.\n"
     ]
    }
   ],
   "source": [
    "pip install opencv-python\n"
   ]
  },
  {
   "cell_type": "code",
   "execution_count": 1,
   "metadata": {},
   "outputs": [],
   "source": [
    "import numpy as np"
   ]
  },
  {
   "cell_type": "code",
   "execution_count": 2,
   "metadata": {},
   "outputs": [
    {
     "data": {
      "text/plain": [
       "True"
      ]
     },
     "execution_count": 2,
     "metadata": {},
     "output_type": "execute_result"
    }
   ],
   "source": [
    "import cv2\n",
    "#img =cv2.imread('Hi.4a669b1b-67e5-11ef-872c-ec79111a68b4.jpg')\n",
    "tesh=0.5\n",
    "nms_threshold=0.2#The smaller the better\n",
    "cap=cv2.VideoCapture(0)\n",
    "cap.set(3,648)\n",
    "cap.set(4,480)\n",
    "\n"
   ]
  },
  {
   "cell_type": "markdown",
   "metadata": {},
   "source": [
    "# reading file\n"
   ]
  },
  {
   "cell_type": "code",
   "execution_count": 3,
   "metadata": {},
   "outputs": [
    {
     "data": {
      "text/plain": [
       "['__background__',\n",
       " 'person',\n",
       " 'bicycle',\n",
       " 'car',\n",
       " 'motorcycle',\n",
       " 'airplane',\n",
       " 'bus',\n",
       " 'train',\n",
       " 'truck',\n",
       " 'boat',\n",
       " 'traffic light',\n",
       " 'fire hydrant',\n",
       " 'stop sign',\n",
       " 'parking meter',\n",
       " 'bench',\n",
       " 'bird',\n",
       " 'cat',\n",
       " 'dog',\n",
       " 'horse',\n",
       " 'sheep',\n",
       " 'cow',\n",
       " 'elephant',\n",
       " 'bear',\n",
       " 'zebra',\n",
       " 'giraffe',\n",
       " 'backpack',\n",
       " 'umbrella',\n",
       " 'handbag',\n",
       " 'tie',\n",
       " 'suitcase',\n",
       " 'frisbee',\n",
       " 'skis',\n",
       " 'snowboard',\n",
       " 'sports ball',\n",
       " 'kite',\n",
       " 'baseball bat',\n",
       " 'baseball glove',\n",
       " 'skateboard',\n",
       " 'surfboard',\n",
       " 'tennis racket',\n",
       " 'bottle',\n",
       " 'wine glass',\n",
       " 'cup',\n",
       " 'fork',\n",
       " 'knife',\n",
       " 'spoon',\n",
       " 'bowl',\n",
       " 'banana',\n",
       " 'apple',\n",
       " 'sandwich',\n",
       " 'orange',\n",
       " 'broccoli',\n",
       " 'carrot',\n",
       " 'hot dog',\n",
       " 'pizza',\n",
       " 'donut',\n",
       " 'cake',\n",
       " 'chair',\n",
       " 'couch',\n",
       " 'potted plant',\n",
       " 'bed',\n",
       " 'dining table',\n",
       " 'toilet',\n",
       " 'tv',\n",
       " 'laptop',\n",
       " 'mouse',\n",
       " 'remote',\n",
       " 'keyboard',\n",
       " 'cell phone',\n",
       " 'microwave',\n",
       " 'oven',\n",
       " 'toaster',\n",
       " 'sink',\n",
       " 'refrigerator',\n",
       " 'book',\n",
       " 'clock',\n",
       " 'vase',\n",
       " 'scissors',\n",
       " 'teddy bear',\n",
       " 'hair drier',\n",
       " 'toothbrush']"
      ]
     },
     "execution_count": 3,
     "metadata": {},
     "output_type": "execute_result"
    }
   ],
   "source": [
    "className=[]\n",
    "classFile='ms_coco_classnames.txt'\n",
    "with open(classFile,'rt') as f:\n",
    "    for line in f:\n",
    "        start=line.find(\"u\")+2\n",
    "        end=line.rfind(\"'\")\n",
    "        Name=line[start:end]\n",
    "        className.append(Name)\n",
    "className"
   ]
  },
  {
   "cell_type": "code",
   "execution_count": 5,
   "metadata": {},
   "outputs": [],
   "source": [
    "configPath='ssd_mobilenet_v3_large_coco_2020_01_14.pbtxt'\n",
    "weightPath='frozen_inference_graph.pb'\n",
    "\n",
    "net = cv2.dnn_DetectionModel(weightPath,configPath)\n",
    "net.setInputSize(320,320)\n",
    "net.setInputScale(1.0/127.50)\n",
    "net.setInputMean(127.5)\n",
    "net.setInputSwapRB(True)\n",
    "\n",
    "while cap.isOpened():\n",
    "    scccess,img=cap.read()\n",
    "    classIds, confs, bbox=net.detect(img,confThreshold=tesh)\n",
    "    bbox=list(bbox)\n",
    "    confs=list(map(float,confs))\n",
    "    \n",
    "    indices=cv2.dnn.NMSBoxes(bbox,confs,tesh,nms_threshold)\n",
    "    for i in indices:\n",
    "        \n",
    "        box=bbox[i]\n",
    "        x,y,w,h=box[0],box[1],box[2],box[3]\n",
    "        cv2.rectangle(img,(x,y),(x+w,h+y),color=(0,255,0),thickness=2)\n",
    "        \n",
    "        cv2.putText(img,className[i+1],(box[0]+10,box[1]+30),\n",
    "                    cv2.FONT_HERSHEY_COMPLEX,1,(0,255,0),2)\n",
    "        \n",
    "    \n",
    "        \n",
    "    # if len(classIds) !=0:\n",
    "    #     for classId, confidence,box in zip(classIds.flatten(),confs.flatten(),bbox):\n",
    "    #         cv2.rectangle(img,box,color=(0,25,0))\n",
    "    #         cv2.putText(img,className[classId],(box[0]+10,box[1]+30),\n",
    "    #                     cv2.FONT_HERSHEY_COMPLEX,1,(0,255,0),2)\n",
    "    #         cv2.putText(img,str(confidence),(box[0]+10,box[1]+30),\n",
    "    #                     cv2.FONT_HERSHEY_COMPLEX,1,(0,255,0),2)\n",
    "    \n",
    "    cv2.imshow(\"output\",(img)) \n",
    "    if cv2.waitKey(1) & 0xFF ==ord('q'):\n",
    "        break\n",
    "cap.release()\n",
    "cv2.destroyAllWindows() \n",
    "        "
   ]
  },
  {
   "cell_type": "code",
   "execution_count": null,
   "metadata": {},
   "outputs": [],
   "source": []
  }
 ],
 "metadata": {
  "kernelspec": {
   "display_name": "env",
   "language": "python",
   "name": "python3"
  },
  "language_info": {
   "codemirror_mode": {
    "name": "ipython",
    "version": 3
   },
   "file_extension": ".py",
   "mimetype": "text/x-python",
   "name": "python",
   "nbconvert_exporter": "python",
   "pygments_lexer": "ipython3",
   "version": "3.12.4"
  }
 },
 "nbformat": 4,
 "nbformat_minor": 2
}
